{
 "cells": [
  {
   "cell_type": "code",
   "execution_count": 2,
   "metadata": {},
   "outputs": [],
   "source": [
    "import pandas as pd\n",
    "import numpy as np\n",
    "import os\n",
    "import matplotlib.pyplot as plt\n",
    "%matplotlib inline\n",
    "import seaborn as sns"
   ]
  },
  {
   "cell_type": "code",
   "execution_count": null,
   "metadata": {},
   "outputs": [],
   "source": []
  },
  {
   "cell_type": "code",
   "execution_count": 3,
   "metadata": {},
   "outputs": [],
   "source": [
    "#Dataset - 2019 Airbnb Data: \n",
    "#https://www.kaggle.com/dgomonov/new-york-city-airbnb-open-data"
   ]
  },
  {
   "cell_type": "code",
   "execution_count": 4,
   "metadata": {},
   "outputs": [],
   "source": [
    "#Questions to answer: \n",
    "#Which boroughs have most listings? \n",
    "#Which 5 neighbourhoods have most listings? \n",
    "#Which boroughs are most expensive? \n",
    "#Which neighbourhoods are most expensive? \n",
    "#Which room types are most expensive? \n",
    "#What boroughs have which room types? \n",
    "#How many hosts total? \n",
    "#Which hosts have the most listings and who is number 1? "
   ]
  },
  {
   "cell_type": "code",
   "execution_count": 5,
   "metadata": {},
   "outputs": [],
   "source": [
    "#Import file and put into dataframe\n",
    "data = pd.read_csv(\"AB_NYC_2019.csv\", low_memory=False)"
   ]
  },
  {
   "cell_type": "code",
   "execution_count": 6,
   "metadata": {},
   "outputs": [
    {
     "data": {
      "text/html": [
       "<div>\n",
       "<style scoped>\n",
       "    .dataframe tbody tr th:only-of-type {\n",
       "        vertical-align: middle;\n",
       "    }\n",
       "\n",
       "    .dataframe tbody tr th {\n",
       "        vertical-align: top;\n",
       "    }\n",
       "\n",
       "    .dataframe thead th {\n",
       "        text-align: right;\n",
       "    }\n",
       "</style>\n",
       "<table border=\"1\" class=\"dataframe\">\n",
       "  <thead>\n",
       "    <tr style=\"text-align: right;\">\n",
       "      <th></th>\n",
       "      <th>id</th>\n",
       "      <th>name</th>\n",
       "      <th>host_id</th>\n",
       "      <th>host_name</th>\n",
       "      <th>neighbourhood_group</th>\n",
       "      <th>neighbourhood</th>\n",
       "      <th>latitude</th>\n",
       "      <th>longitude</th>\n",
       "      <th>room_type</th>\n",
       "      <th>price</th>\n",
       "      <th>minimum_nights</th>\n",
       "      <th>number_of_reviews</th>\n",
       "      <th>last_review</th>\n",
       "      <th>reviews_per_month</th>\n",
       "      <th>calculated_host_listings_count</th>\n",
       "      <th>availability_365</th>\n",
       "    </tr>\n",
       "  </thead>\n",
       "  <tbody>\n",
       "    <tr>\n",
       "      <th>0</th>\n",
       "      <td>2539</td>\n",
       "      <td>Clean &amp; quiet apt home by the park</td>\n",
       "      <td>2787</td>\n",
       "      <td>John</td>\n",
       "      <td>Brooklyn</td>\n",
       "      <td>Kensington</td>\n",
       "      <td>40.64749</td>\n",
       "      <td>-73.97237</td>\n",
       "      <td>Private room</td>\n",
       "      <td>149</td>\n",
       "      <td>1</td>\n",
       "      <td>9</td>\n",
       "      <td>2018-10-19</td>\n",
       "      <td>0.21</td>\n",
       "      <td>6</td>\n",
       "      <td>365</td>\n",
       "    </tr>\n",
       "    <tr>\n",
       "      <th>1</th>\n",
       "      <td>2595</td>\n",
       "      <td>Skylit Midtown Castle</td>\n",
       "      <td>2845</td>\n",
       "      <td>Jennifer</td>\n",
       "      <td>Manhattan</td>\n",
       "      <td>Midtown</td>\n",
       "      <td>40.75362</td>\n",
       "      <td>-73.98377</td>\n",
       "      <td>Entire home/apt</td>\n",
       "      <td>225</td>\n",
       "      <td>1</td>\n",
       "      <td>45</td>\n",
       "      <td>2019-05-21</td>\n",
       "      <td>0.38</td>\n",
       "      <td>2</td>\n",
       "      <td>355</td>\n",
       "    </tr>\n",
       "    <tr>\n",
       "      <th>2</th>\n",
       "      <td>3647</td>\n",
       "      <td>THE VILLAGE OF HARLEM....NEW YORK !</td>\n",
       "      <td>4632</td>\n",
       "      <td>Elisabeth</td>\n",
       "      <td>Manhattan</td>\n",
       "      <td>Harlem</td>\n",
       "      <td>40.80902</td>\n",
       "      <td>-73.94190</td>\n",
       "      <td>Private room</td>\n",
       "      <td>150</td>\n",
       "      <td>3</td>\n",
       "      <td>0</td>\n",
       "      <td>NaN</td>\n",
       "      <td>NaN</td>\n",
       "      <td>1</td>\n",
       "      <td>365</td>\n",
       "    </tr>\n",
       "    <tr>\n",
       "      <th>3</th>\n",
       "      <td>3831</td>\n",
       "      <td>Cozy Entire Floor of Brownstone</td>\n",
       "      <td>4869</td>\n",
       "      <td>LisaRoxanne</td>\n",
       "      <td>Brooklyn</td>\n",
       "      <td>Clinton Hill</td>\n",
       "      <td>40.68514</td>\n",
       "      <td>-73.95976</td>\n",
       "      <td>Entire home/apt</td>\n",
       "      <td>89</td>\n",
       "      <td>1</td>\n",
       "      <td>270</td>\n",
       "      <td>2019-07-05</td>\n",
       "      <td>4.64</td>\n",
       "      <td>1</td>\n",
       "      <td>194</td>\n",
       "    </tr>\n",
       "    <tr>\n",
       "      <th>4</th>\n",
       "      <td>5022</td>\n",
       "      <td>Entire Apt: Spacious Studio/Loft by central park</td>\n",
       "      <td>7192</td>\n",
       "      <td>Laura</td>\n",
       "      <td>Manhattan</td>\n",
       "      <td>East Harlem</td>\n",
       "      <td>40.79851</td>\n",
       "      <td>-73.94399</td>\n",
       "      <td>Entire home/apt</td>\n",
       "      <td>80</td>\n",
       "      <td>10</td>\n",
       "      <td>9</td>\n",
       "      <td>2018-11-19</td>\n",
       "      <td>0.10</td>\n",
       "      <td>1</td>\n",
       "      <td>0</td>\n",
       "    </tr>\n",
       "  </tbody>\n",
       "</table>\n",
       "</div>"
      ],
      "text/plain": [
       "     id                                              name  host_id  \\\n",
       "0  2539                Clean & quiet apt home by the park     2787   \n",
       "1  2595                             Skylit Midtown Castle     2845   \n",
       "2  3647               THE VILLAGE OF HARLEM....NEW YORK !     4632   \n",
       "3  3831                   Cozy Entire Floor of Brownstone     4869   \n",
       "4  5022  Entire Apt: Spacious Studio/Loft by central park     7192   \n",
       "\n",
       "     host_name neighbourhood_group neighbourhood  latitude  longitude  \\\n",
       "0         John            Brooklyn    Kensington  40.64749  -73.97237   \n",
       "1     Jennifer           Manhattan       Midtown  40.75362  -73.98377   \n",
       "2    Elisabeth           Manhattan        Harlem  40.80902  -73.94190   \n",
       "3  LisaRoxanne            Brooklyn  Clinton Hill  40.68514  -73.95976   \n",
       "4        Laura           Manhattan   East Harlem  40.79851  -73.94399   \n",
       "\n",
       "         room_type  price  minimum_nights  number_of_reviews last_review  \\\n",
       "0     Private room    149               1                  9  2018-10-19   \n",
       "1  Entire home/apt    225               1                 45  2019-05-21   \n",
       "2     Private room    150               3                  0         NaN   \n",
       "3  Entire home/apt     89               1                270  2019-07-05   \n",
       "4  Entire home/apt     80              10                  9  2018-11-19   \n",
       "\n",
       "   reviews_per_month  calculated_host_listings_count  availability_365  \n",
       "0               0.21                               6               365  \n",
       "1               0.38                               2               355  \n",
       "2                NaN                               1               365  \n",
       "3               4.64                               1               194  \n",
       "4               0.10                               1                 0  "
      ]
     },
     "execution_count": 6,
     "metadata": {},
     "output_type": "execute_result"
    }
   ],
   "source": [
    "#View Data as uploaded\n",
    "data.head(5)"
   ]
  },
  {
   "cell_type": "code",
   "execution_count": 7,
   "metadata": {},
   "outputs": [
    {
     "data": {
      "text/plain": [
       "(48895, 16)"
      ]
     },
     "execution_count": 7,
     "metadata": {},
     "output_type": "execute_result"
    }
   ],
   "source": [
    "#See how much data we have\n",
    "data.shape"
   ]
  },
  {
   "cell_type": "code",
   "execution_count": 8,
   "metadata": {},
   "outputs": [
    {
     "data": {
      "text/html": [
       "<div>\n",
       "<style scoped>\n",
       "    .dataframe tbody tr th:only-of-type {\n",
       "        vertical-align: middle;\n",
       "    }\n",
       "\n",
       "    .dataframe tbody tr th {\n",
       "        vertical-align: top;\n",
       "    }\n",
       "\n",
       "    .dataframe thead th {\n",
       "        text-align: right;\n",
       "    }\n",
       "</style>\n",
       "<table border=\"1\" class=\"dataframe\">\n",
       "  <thead>\n",
       "    <tr style=\"text-align: right;\">\n",
       "      <th></th>\n",
       "      <th>id</th>\n",
       "      <th>host_id</th>\n",
       "      <th>latitude</th>\n",
       "      <th>longitude</th>\n",
       "      <th>price</th>\n",
       "      <th>minimum_nights</th>\n",
       "      <th>number_of_reviews</th>\n",
       "      <th>reviews_per_month</th>\n",
       "      <th>calculated_host_listings_count</th>\n",
       "      <th>availability_365</th>\n",
       "    </tr>\n",
       "  </thead>\n",
       "  <tbody>\n",
       "    <tr>\n",
       "      <th>count</th>\n",
       "      <td>4.889500e+04</td>\n",
       "      <td>4.889500e+04</td>\n",
       "      <td>48895.000000</td>\n",
       "      <td>48895.000000</td>\n",
       "      <td>48895.000000</td>\n",
       "      <td>48895.000000</td>\n",
       "      <td>48895.000000</td>\n",
       "      <td>38843.000000</td>\n",
       "      <td>48895.000000</td>\n",
       "      <td>48895.000000</td>\n",
       "    </tr>\n",
       "    <tr>\n",
       "      <th>mean</th>\n",
       "      <td>1.901714e+07</td>\n",
       "      <td>6.762001e+07</td>\n",
       "      <td>40.728949</td>\n",
       "      <td>-73.952170</td>\n",
       "      <td>152.720687</td>\n",
       "      <td>7.029962</td>\n",
       "      <td>23.274466</td>\n",
       "      <td>1.373221</td>\n",
       "      <td>7.143982</td>\n",
       "      <td>112.781327</td>\n",
       "    </tr>\n",
       "    <tr>\n",
       "      <th>std</th>\n",
       "      <td>1.098311e+07</td>\n",
       "      <td>7.861097e+07</td>\n",
       "      <td>0.054530</td>\n",
       "      <td>0.046157</td>\n",
       "      <td>240.154170</td>\n",
       "      <td>20.510550</td>\n",
       "      <td>44.550582</td>\n",
       "      <td>1.680442</td>\n",
       "      <td>32.952519</td>\n",
       "      <td>131.622289</td>\n",
       "    </tr>\n",
       "    <tr>\n",
       "      <th>min</th>\n",
       "      <td>2.539000e+03</td>\n",
       "      <td>2.438000e+03</td>\n",
       "      <td>40.499790</td>\n",
       "      <td>-74.244420</td>\n",
       "      <td>0.000000</td>\n",
       "      <td>1.000000</td>\n",
       "      <td>0.000000</td>\n",
       "      <td>0.010000</td>\n",
       "      <td>1.000000</td>\n",
       "      <td>0.000000</td>\n",
       "    </tr>\n",
       "    <tr>\n",
       "      <th>25%</th>\n",
       "      <td>9.471945e+06</td>\n",
       "      <td>7.822033e+06</td>\n",
       "      <td>40.690100</td>\n",
       "      <td>-73.983070</td>\n",
       "      <td>69.000000</td>\n",
       "      <td>1.000000</td>\n",
       "      <td>1.000000</td>\n",
       "      <td>0.190000</td>\n",
       "      <td>1.000000</td>\n",
       "      <td>0.000000</td>\n",
       "    </tr>\n",
       "    <tr>\n",
       "      <th>50%</th>\n",
       "      <td>1.967728e+07</td>\n",
       "      <td>3.079382e+07</td>\n",
       "      <td>40.723070</td>\n",
       "      <td>-73.955680</td>\n",
       "      <td>106.000000</td>\n",
       "      <td>3.000000</td>\n",
       "      <td>5.000000</td>\n",
       "      <td>0.720000</td>\n",
       "      <td>1.000000</td>\n",
       "      <td>45.000000</td>\n",
       "    </tr>\n",
       "    <tr>\n",
       "      <th>75%</th>\n",
       "      <td>2.915218e+07</td>\n",
       "      <td>1.074344e+08</td>\n",
       "      <td>40.763115</td>\n",
       "      <td>-73.936275</td>\n",
       "      <td>175.000000</td>\n",
       "      <td>5.000000</td>\n",
       "      <td>24.000000</td>\n",
       "      <td>2.020000</td>\n",
       "      <td>2.000000</td>\n",
       "      <td>227.000000</td>\n",
       "    </tr>\n",
       "    <tr>\n",
       "      <th>max</th>\n",
       "      <td>3.648724e+07</td>\n",
       "      <td>2.743213e+08</td>\n",
       "      <td>40.913060</td>\n",
       "      <td>-73.712990</td>\n",
       "      <td>10000.000000</td>\n",
       "      <td>1250.000000</td>\n",
       "      <td>629.000000</td>\n",
       "      <td>58.500000</td>\n",
       "      <td>327.000000</td>\n",
       "      <td>365.000000</td>\n",
       "    </tr>\n",
       "  </tbody>\n",
       "</table>\n",
       "</div>"
      ],
      "text/plain": [
       "                 id       host_id      latitude     longitude         price  \\\n",
       "count  4.889500e+04  4.889500e+04  48895.000000  48895.000000  48895.000000   \n",
       "mean   1.901714e+07  6.762001e+07     40.728949    -73.952170    152.720687   \n",
       "std    1.098311e+07  7.861097e+07      0.054530      0.046157    240.154170   \n",
       "min    2.539000e+03  2.438000e+03     40.499790    -74.244420      0.000000   \n",
       "25%    9.471945e+06  7.822033e+06     40.690100    -73.983070     69.000000   \n",
       "50%    1.967728e+07  3.079382e+07     40.723070    -73.955680    106.000000   \n",
       "75%    2.915218e+07  1.074344e+08     40.763115    -73.936275    175.000000   \n",
       "max    3.648724e+07  2.743213e+08     40.913060    -73.712990  10000.000000   \n",
       "\n",
       "       minimum_nights  number_of_reviews  reviews_per_month  \\\n",
       "count    48895.000000       48895.000000       38843.000000   \n",
       "mean         7.029962          23.274466           1.373221   \n",
       "std         20.510550          44.550582           1.680442   \n",
       "min          1.000000           0.000000           0.010000   \n",
       "25%          1.000000           1.000000           0.190000   \n",
       "50%          3.000000           5.000000           0.720000   \n",
       "75%          5.000000          24.000000           2.020000   \n",
       "max       1250.000000         629.000000          58.500000   \n",
       "\n",
       "       calculated_host_listings_count  availability_365  \n",
       "count                    48895.000000      48895.000000  \n",
       "mean                         7.143982        112.781327  \n",
       "std                         32.952519        131.622289  \n",
       "min                          1.000000          0.000000  \n",
       "25%                          1.000000          0.000000  \n",
       "50%                          1.000000         45.000000  \n",
       "75%                          2.000000        227.000000  \n",
       "max                        327.000000        365.000000  "
      ]
     },
     "execution_count": 8,
     "metadata": {},
     "output_type": "execute_result"
    }
   ],
   "source": [
    "#Take a look at the data \n",
    "data.describe()"
   ]
  },
  {
   "cell_type": "code",
   "execution_count": 9,
   "metadata": {},
   "outputs": [],
   "source": [
    "#Rename some columns \n",
    "new_names = {'name': 'listing_title',\n",
    "             'neighbourhood_group' : 'borough',\n",
    "             'number_of_reviews': 'num_of_reviews',\n",
    "             'calculated_host_listings_count' : 'num_host_listings',\n",
    "             'availability_365' : 'num_days_available',\n",
    "             'minimum_nights' : 'min_nights'\n",
    "            }\n",
    "\n",
    "data.rename(columns = new_names, inplace = True)"
   ]
  },
  {
   "cell_type": "code",
   "execution_count": 10,
   "metadata": {},
   "outputs": [
    {
     "data": {
      "text/html": [
       "<div>\n",
       "<style scoped>\n",
       "    .dataframe tbody tr th:only-of-type {\n",
       "        vertical-align: middle;\n",
       "    }\n",
       "\n",
       "    .dataframe tbody tr th {\n",
       "        vertical-align: top;\n",
       "    }\n",
       "\n",
       "    .dataframe thead th {\n",
       "        text-align: right;\n",
       "    }\n",
       "</style>\n",
       "<table border=\"1\" class=\"dataframe\">\n",
       "  <thead>\n",
       "    <tr style=\"text-align: right;\">\n",
       "      <th></th>\n",
       "      <th>id</th>\n",
       "      <th>listing_title</th>\n",
       "      <th>host_id</th>\n",
       "      <th>host_name</th>\n",
       "      <th>borough</th>\n",
       "      <th>neighbourhood</th>\n",
       "      <th>latitude</th>\n",
       "      <th>longitude</th>\n",
       "      <th>room_type</th>\n",
       "      <th>price</th>\n",
       "      <th>min_nights</th>\n",
       "      <th>num_of_reviews</th>\n",
       "      <th>last_review</th>\n",
       "      <th>reviews_per_month</th>\n",
       "      <th>num_host_listings</th>\n",
       "      <th>num_days_available</th>\n",
       "    </tr>\n",
       "  </thead>\n",
       "  <tbody>\n",
       "    <tr>\n",
       "      <th>0</th>\n",
       "      <td>2539</td>\n",
       "      <td>Clean &amp; quiet apt home by the park</td>\n",
       "      <td>2787</td>\n",
       "      <td>John</td>\n",
       "      <td>Brooklyn</td>\n",
       "      <td>Kensington</td>\n",
       "      <td>40.64749</td>\n",
       "      <td>-73.97237</td>\n",
       "      <td>Private room</td>\n",
       "      <td>149</td>\n",
       "      <td>1</td>\n",
       "      <td>9</td>\n",
       "      <td>2018-10-19</td>\n",
       "      <td>0.21</td>\n",
       "      <td>6</td>\n",
       "      <td>365</td>\n",
       "    </tr>\n",
       "    <tr>\n",
       "      <th>1</th>\n",
       "      <td>2595</td>\n",
       "      <td>Skylit Midtown Castle</td>\n",
       "      <td>2845</td>\n",
       "      <td>Jennifer</td>\n",
       "      <td>Manhattan</td>\n",
       "      <td>Midtown</td>\n",
       "      <td>40.75362</td>\n",
       "      <td>-73.98377</td>\n",
       "      <td>Entire home/apt</td>\n",
       "      <td>225</td>\n",
       "      <td>1</td>\n",
       "      <td>45</td>\n",
       "      <td>2019-05-21</td>\n",
       "      <td>0.38</td>\n",
       "      <td>2</td>\n",
       "      <td>355</td>\n",
       "    </tr>\n",
       "    <tr>\n",
       "      <th>2</th>\n",
       "      <td>3647</td>\n",
       "      <td>THE VILLAGE OF HARLEM....NEW YORK !</td>\n",
       "      <td>4632</td>\n",
       "      <td>Elisabeth</td>\n",
       "      <td>Manhattan</td>\n",
       "      <td>Harlem</td>\n",
       "      <td>40.80902</td>\n",
       "      <td>-73.94190</td>\n",
       "      <td>Private room</td>\n",
       "      <td>150</td>\n",
       "      <td>3</td>\n",
       "      <td>0</td>\n",
       "      <td>NaN</td>\n",
       "      <td>NaN</td>\n",
       "      <td>1</td>\n",
       "      <td>365</td>\n",
       "    </tr>\n",
       "    <tr>\n",
       "      <th>3</th>\n",
       "      <td>3831</td>\n",
       "      <td>Cozy Entire Floor of Brownstone</td>\n",
       "      <td>4869</td>\n",
       "      <td>LisaRoxanne</td>\n",
       "      <td>Brooklyn</td>\n",
       "      <td>Clinton Hill</td>\n",
       "      <td>40.68514</td>\n",
       "      <td>-73.95976</td>\n",
       "      <td>Entire home/apt</td>\n",
       "      <td>89</td>\n",
       "      <td>1</td>\n",
       "      <td>270</td>\n",
       "      <td>2019-07-05</td>\n",
       "      <td>4.64</td>\n",
       "      <td>1</td>\n",
       "      <td>194</td>\n",
       "    </tr>\n",
       "    <tr>\n",
       "      <th>4</th>\n",
       "      <td>5022</td>\n",
       "      <td>Entire Apt: Spacious Studio/Loft by central park</td>\n",
       "      <td>7192</td>\n",
       "      <td>Laura</td>\n",
       "      <td>Manhattan</td>\n",
       "      <td>East Harlem</td>\n",
       "      <td>40.79851</td>\n",
       "      <td>-73.94399</td>\n",
       "      <td>Entire home/apt</td>\n",
       "      <td>80</td>\n",
       "      <td>10</td>\n",
       "      <td>9</td>\n",
       "      <td>2018-11-19</td>\n",
       "      <td>0.10</td>\n",
       "      <td>1</td>\n",
       "      <td>0</td>\n",
       "    </tr>\n",
       "  </tbody>\n",
       "</table>\n",
       "</div>"
      ],
      "text/plain": [
       "     id                                     listing_title  host_id  \\\n",
       "0  2539                Clean & quiet apt home by the park     2787   \n",
       "1  2595                             Skylit Midtown Castle     2845   \n",
       "2  3647               THE VILLAGE OF HARLEM....NEW YORK !     4632   \n",
       "3  3831                   Cozy Entire Floor of Brownstone     4869   \n",
       "4  5022  Entire Apt: Spacious Studio/Loft by central park     7192   \n",
       "\n",
       "     host_name    borough neighbourhood  latitude  longitude        room_type  \\\n",
       "0         John   Brooklyn    Kensington  40.64749  -73.97237     Private room   \n",
       "1     Jennifer  Manhattan       Midtown  40.75362  -73.98377  Entire home/apt   \n",
       "2    Elisabeth  Manhattan        Harlem  40.80902  -73.94190     Private room   \n",
       "3  LisaRoxanne   Brooklyn  Clinton Hill  40.68514  -73.95976  Entire home/apt   \n",
       "4        Laura  Manhattan   East Harlem  40.79851  -73.94399  Entire home/apt   \n",
       "\n",
       "   price  min_nights  num_of_reviews last_review  reviews_per_month  \\\n",
       "0    149           1               9  2018-10-19               0.21   \n",
       "1    225           1              45  2019-05-21               0.38   \n",
       "2    150           3               0         NaN                NaN   \n",
       "3     89           1             270  2019-07-05               4.64   \n",
       "4     80          10               9  2018-11-19               0.10   \n",
       "\n",
       "   num_host_listings  num_days_available  \n",
       "0                  6                 365  \n",
       "1                  2                 355  \n",
       "2                  1                 365  \n",
       "3                  1                 194  \n",
       "4                  1                   0  "
      ]
     },
     "execution_count": 10,
     "metadata": {},
     "output_type": "execute_result"
    }
   ],
   "source": [
    "data.head(5)"
   ]
  },
  {
   "cell_type": "code",
   "execution_count": 11,
   "metadata": {},
   "outputs": [],
   "source": [
    "#drop columns: latitude, longitude, last review\n",
    "data.drop(['latitude', 'longitude', 'last_review', 'num_days_available'], axis = 1, inplace = True)"
   ]
  },
  {
   "cell_type": "code",
   "execution_count": 12,
   "metadata": {},
   "outputs": [
    {
     "data": {
      "text/html": [
       "<div>\n",
       "<style scoped>\n",
       "    .dataframe tbody tr th:only-of-type {\n",
       "        vertical-align: middle;\n",
       "    }\n",
       "\n",
       "    .dataframe tbody tr th {\n",
       "        vertical-align: top;\n",
       "    }\n",
       "\n",
       "    .dataframe thead th {\n",
       "        text-align: right;\n",
       "    }\n",
       "</style>\n",
       "<table border=\"1\" class=\"dataframe\">\n",
       "  <thead>\n",
       "    <tr style=\"text-align: right;\">\n",
       "      <th></th>\n",
       "      <th>id</th>\n",
       "      <th>listing_title</th>\n",
       "      <th>host_id</th>\n",
       "      <th>host_name</th>\n",
       "      <th>borough</th>\n",
       "      <th>neighbourhood</th>\n",
       "      <th>room_type</th>\n",
       "      <th>price</th>\n",
       "      <th>min_nights</th>\n",
       "      <th>num_of_reviews</th>\n",
       "      <th>reviews_per_month</th>\n",
       "      <th>num_host_listings</th>\n",
       "    </tr>\n",
       "  </thead>\n",
       "  <tbody>\n",
       "    <tr>\n",
       "      <th>0</th>\n",
       "      <td>2539</td>\n",
       "      <td>Clean &amp; quiet apt home by the park</td>\n",
       "      <td>2787</td>\n",
       "      <td>John</td>\n",
       "      <td>Brooklyn</td>\n",
       "      <td>Kensington</td>\n",
       "      <td>Private room</td>\n",
       "      <td>149</td>\n",
       "      <td>1</td>\n",
       "      <td>9</td>\n",
       "      <td>0.21</td>\n",
       "      <td>6</td>\n",
       "    </tr>\n",
       "    <tr>\n",
       "      <th>1</th>\n",
       "      <td>2595</td>\n",
       "      <td>Skylit Midtown Castle</td>\n",
       "      <td>2845</td>\n",
       "      <td>Jennifer</td>\n",
       "      <td>Manhattan</td>\n",
       "      <td>Midtown</td>\n",
       "      <td>Entire home/apt</td>\n",
       "      <td>225</td>\n",
       "      <td>1</td>\n",
       "      <td>45</td>\n",
       "      <td>0.38</td>\n",
       "      <td>2</td>\n",
       "    </tr>\n",
       "    <tr>\n",
       "      <th>2</th>\n",
       "      <td>3647</td>\n",
       "      <td>THE VILLAGE OF HARLEM....NEW YORK !</td>\n",
       "      <td>4632</td>\n",
       "      <td>Elisabeth</td>\n",
       "      <td>Manhattan</td>\n",
       "      <td>Harlem</td>\n",
       "      <td>Private room</td>\n",
       "      <td>150</td>\n",
       "      <td>3</td>\n",
       "      <td>0</td>\n",
       "      <td>NaN</td>\n",
       "      <td>1</td>\n",
       "    </tr>\n",
       "    <tr>\n",
       "      <th>3</th>\n",
       "      <td>3831</td>\n",
       "      <td>Cozy Entire Floor of Brownstone</td>\n",
       "      <td>4869</td>\n",
       "      <td>LisaRoxanne</td>\n",
       "      <td>Brooklyn</td>\n",
       "      <td>Clinton Hill</td>\n",
       "      <td>Entire home/apt</td>\n",
       "      <td>89</td>\n",
       "      <td>1</td>\n",
       "      <td>270</td>\n",
       "      <td>4.64</td>\n",
       "      <td>1</td>\n",
       "    </tr>\n",
       "    <tr>\n",
       "      <th>4</th>\n",
       "      <td>5022</td>\n",
       "      <td>Entire Apt: Spacious Studio/Loft by central park</td>\n",
       "      <td>7192</td>\n",
       "      <td>Laura</td>\n",
       "      <td>Manhattan</td>\n",
       "      <td>East Harlem</td>\n",
       "      <td>Entire home/apt</td>\n",
       "      <td>80</td>\n",
       "      <td>10</td>\n",
       "      <td>9</td>\n",
       "      <td>0.10</td>\n",
       "      <td>1</td>\n",
       "    </tr>\n",
       "  </tbody>\n",
       "</table>\n",
       "</div>"
      ],
      "text/plain": [
       "     id                                     listing_title  host_id  \\\n",
       "0  2539                Clean & quiet apt home by the park     2787   \n",
       "1  2595                             Skylit Midtown Castle     2845   \n",
       "2  3647               THE VILLAGE OF HARLEM....NEW YORK !     4632   \n",
       "3  3831                   Cozy Entire Floor of Brownstone     4869   \n",
       "4  5022  Entire Apt: Spacious Studio/Loft by central park     7192   \n",
       "\n",
       "     host_name    borough neighbourhood        room_type  price  min_nights  \\\n",
       "0         John   Brooklyn    Kensington     Private room    149           1   \n",
       "1     Jennifer  Manhattan       Midtown  Entire home/apt    225           1   \n",
       "2    Elisabeth  Manhattan        Harlem     Private room    150           3   \n",
       "3  LisaRoxanne   Brooklyn  Clinton Hill  Entire home/apt     89           1   \n",
       "4        Laura  Manhattan   East Harlem  Entire home/apt     80          10   \n",
       "\n",
       "   num_of_reviews  reviews_per_month  num_host_listings  \n",
       "0               9               0.21                  6  \n",
       "1              45               0.38                  2  \n",
       "2               0                NaN                  1  \n",
       "3             270               4.64                  1  \n",
       "4               9               0.10                  1  "
      ]
     },
     "execution_count": 12,
     "metadata": {},
     "output_type": "execute_result"
    }
   ],
   "source": [
    "data.head(5)"
   ]
  },
  {
   "cell_type": "code",
   "execution_count": 13,
   "metadata": {},
   "outputs": [
    {
     "data": {
      "text/plain": [
       "(48895, 12)"
      ]
     },
     "execution_count": 13,
     "metadata": {},
     "output_type": "execute_result"
    }
   ],
   "source": [
    "data.shape"
   ]
  },
  {
   "cell_type": "code",
   "execution_count": 14,
   "metadata": {},
   "outputs": [
    {
     "name": "stdout",
     "output_type": "stream",
     "text": [
      "<class 'pandas.core.frame.DataFrame'>\n",
      "RangeIndex: 48895 entries, 0 to 48894\n",
      "Data columns (total 12 columns):\n",
      " #   Column             Non-Null Count  Dtype  \n",
      "---  ------             --------------  -----  \n",
      " 0   id                 48895 non-null  int64  \n",
      " 1   listing_title      48879 non-null  object \n",
      " 2   host_id            48895 non-null  int64  \n",
      " 3   host_name          48874 non-null  object \n",
      " 4   borough            48895 non-null  object \n",
      " 5   neighbourhood      48895 non-null  object \n",
      " 6   room_type          48895 non-null  object \n",
      " 7   price              48895 non-null  int64  \n",
      " 8   min_nights         48895 non-null  int64  \n",
      " 9   num_of_reviews     48895 non-null  int64  \n",
      " 10  reviews_per_month  38843 non-null  float64\n",
      " 11  num_host_listings  48895 non-null  int64  \n",
      "dtypes: float64(1), int64(6), object(5)\n",
      "memory usage: 4.5+ MB\n"
     ]
    }
   ],
   "source": [
    "#Check for missing data \n",
    "data.info()"
   ]
  },
  {
   "cell_type": "code",
   "execution_count": 15,
   "metadata": {},
   "outputs": [
    {
     "data": {
      "text/plain": [
       "id                       0\n",
       "listing_title           16\n",
       "host_id                  0\n",
       "host_name               21\n",
       "borough                  0\n",
       "neighbourhood            0\n",
       "room_type                0\n",
       "price                    0\n",
       "min_nights               0\n",
       "num_of_reviews           0\n",
       "reviews_per_month    10052\n",
       "num_host_listings        0\n",
       "dtype: int64"
      ]
     },
     "execution_count": 15,
     "metadata": {},
     "output_type": "execute_result"
    }
   ],
   "source": [
    "#How much missing data and where? \n",
    "data.isnull().sum()"
   ]
  },
  {
   "cell_type": "code",
   "execution_count": 16,
   "metadata": {},
   "outputs": [
    {
     "name": "stdout",
     "output_type": "stream",
     "text": [
      "count    38843.000000\n",
      "mean         1.373221\n",
      "std          1.680442\n",
      "min          0.010000\n",
      "25%          0.190000\n",
      "50%          0.720000\n",
      "75%          2.020000\n",
      "max         58.500000\n",
      "Name: reviews_per_month, dtype: float64\n",
      "median: 0.72\n"
     ]
    },
    {
     "data": {
      "text/plain": [
       "array([[<matplotlib.axes._subplots.AxesSubplot object at 0x7fef3a74ad90>]],\n",
       "      dtype=object)"
      ]
     },
     "execution_count": 16,
     "metadata": {},
     "output_type": "execute_result"
    },
    {
     "data": {
      "image/png": "[encoded data removed]",
      "text/plain": [
       "<Figure size 432x288 with 1 Axes>"
      ]
     },
     "metadata": {
      "needs_background": "light"
     },
     "output_type": "display_data"
    }
   ],
   "source": [
    "# Clean data (reviews per month) - fill null values with mean or median \n",
    "# First check reviews per month distribution to see if it's skewed and make decision from there \n",
    "print(data.reviews_per_month.describe())\n",
    "print(\"median: \" + str(data.reviews_per_month.median()))\n",
    "data.hist(column = 'reviews_per_month', bins = 60, grid = False, rwidth = .9)"
   ]
  },
  {
   "cell_type": "code",
   "execution_count": 17,
   "metadata": {},
   "outputs": [],
   "source": [
    "#Clean data- fill null values with median\n",
    "data.fillna(data.reviews_per_month.median(), inplace=True)"
   ]
  },
  {
   "cell_type": "code",
   "execution_count": 18,
   "metadata": {},
   "outputs": [
    {
     "data": {
      "text/plain": [
       "id                   0\n",
       "listing_title        0\n",
       "host_id              0\n",
       "host_name            0\n",
       "borough              0\n",
       "neighbourhood        0\n",
       "room_type            0\n",
       "price                0\n",
       "min_nights           0\n",
       "num_of_reviews       0\n",
       "reviews_per_month    0\n",
       "num_host_listings    0\n",
       "dtype: int64"
      ]
     },
     "execution_count": 18,
     "metadata": {},
     "output_type": "execute_result"
    }
   ],
   "source": [
    "#Make sure it worked \n",
    "data.isnull().sum()"
   ]
  },
  {
   "cell_type": "code",
   "execution_count": 19,
   "metadata": {},
   "outputs": [
    {
     "data": {
      "text/plain": [
       "0"
      ]
     },
     "execution_count": 19,
     "metadata": {},
     "output_type": "execute_result"
    }
   ],
   "source": [
    "#Check for duplicates \n",
    "data.duplicated().sum()"
   ]
  },
  {
   "cell_type": "code",
   "execution_count": 20,
   "metadata": {},
   "outputs": [
    {
     "data": {
      "text/plain": [
       "array(['Brooklyn', 'Manhattan', 'Queens', 'Staten Island', 'Bronx'],\n",
       "      dtype=object)"
      ]
     },
     "execution_count": 20,
     "metadata": {},
     "output_type": "execute_result"
    }
   ],
   "source": [
    "#Examine values of categorical variables and make sure there's nothing like Brooklyn/brooklyn\n",
    "data.borough.unique()"
   ]
  },
  {
   "cell_type": "code",
   "execution_count": 21,
   "metadata": {},
   "outputs": [
    {
     "data": {
      "text/plain": [
       "0           private room\n",
       "1        entire home/apt\n",
       "2           private room\n",
       "3        entire home/apt\n",
       "4        entire home/apt\n",
       "              ...       \n",
       "48890       private room\n",
       "48891       private room\n",
       "48892    entire home/apt\n",
       "48893        shared room\n",
       "48894       private room\n",
       "Name: room_type, Length: 48895, dtype: object"
      ]
     },
     "execution_count": 21,
     "metadata": {},
     "output_type": "execute_result"
    }
   ],
   "source": [
    "#Make listing title, host_name, neighbourhood, boroughs and room_type lower case \n",
    "data['listing_title'].str.lower()\n",
    "data['host_name'].str.lower()\n",
    "data['borough'].str.lower()\n",
    "data['neighbourhood'].str.lower()\n",
    "data['room_type'].str.lower()"
   ]
  },
  {
   "cell_type": "code",
   "execution_count": 22,
   "metadata": {},
   "outputs": [
    {
     "name": "stdout",
     "output_type": "stream",
     "text": [
      "count    48895.000000\n",
      "mean       152.720687\n",
      "std        240.154170\n",
      "min          0.000000\n",
      "25%         69.000000\n",
      "50%        106.000000\n",
      "75%        175.000000\n",
      "max      10000.000000\n",
      "Name: price, dtype: float64\n",
      "median: 106.0\n"
     ]
    },
    {
     "data": {
      "image/png": "[encoded data removed]",
      "text/plain": [
       "<Figure size 432x288 with 1 Axes>"
      ]
     },
     "metadata": {
      "needs_background": "light"
     },
     "output_type": "display_data"
    },
    {
     "data": {
      "image/png": "[encoded data removed]",
      "text/plain": [
       "<Figure size 432x288 with 1 Axes>"
      ]
     },
     "metadata": {
      "needs_background": "light"
     },
     "output_type": "display_data"
    }
   ],
   "source": [
    "#Description, Box plot and histogram of price \n",
    "data.boxplot(column = 'price')\n",
    "data.hist(column = 'price', bins = 100, grid = True,)\n",
    "print(data.price.describe())\n",
    "print(\"median: \" + str(data.price.median()))"
   ]
  },
  {
   "cell_type": "code",
   "execution_count": 23,
   "metadata": {},
   "outputs": [
    {
     "data": {
      "text/plain": [
       "count    48895.000000\n",
       "mean        23.274466\n",
       "std         44.550582\n",
       "min          0.000000\n",
       "25%          1.000000\n",
       "50%          5.000000\n",
       "75%         24.000000\n",
       "max        629.000000\n",
       "Name: num_of_reviews, dtype: float64"
      ]
     },
     "execution_count": 23,
     "metadata": {},
     "output_type": "execute_result"
    },
    {
     "data": {
      "image/png": "[encoded data removed]",
      "text/plain": [
       "<Figure size 432x288 with 1 Axes>"
      ]
     },
     "metadata": {
      "needs_background": "light"
     },
     "output_type": "display_data"
    },
    {
     "data": {
      "image/png": "[encoded data removed]",
      "text/plain": [
       "<Figure size 432x288 with 1 Axes>"
      ]
     },
     "metadata": {
      "needs_background": "light"
     },
     "output_type": "display_data"
    }
   ],
   "source": [
    "#Box plot and histogram of num_of_reviews \n",
    "data.boxplot(column = 'num_of_reviews')\n",
    "data.hist(column = 'num_of_reviews', bins = 100, grid = True,)\n",
    "data.num_of_reviews.describe()"
   ]
  },
  {
   "cell_type": "code",
   "execution_count": 24,
   "metadata": {},
   "outputs": [
    {
     "data": {
      "text/plain": [
       "count    48895.000000\n",
       "mean         1.238930\n",
       "std          1.520861\n",
       "min          0.010000\n",
       "25%          0.280000\n",
       "50%          0.720000\n",
       "75%          1.580000\n",
       "max         58.500000\n",
       "Name: reviews_per_month, dtype: float64"
      ]
     },
     "execution_count": 24,
     "metadata": {},
     "output_type": "execute_result"
    },
    {
     "data": {
      "image/png": "[encoded data removed]",
      "text/plain": [
       "<Figure size 432x288 with 1 Axes>"
      ]
     },
     "metadata": {
      "needs_background": "light"
     },
     "output_type": "display_data"
    },
    {
     "data": {
      "image/png": "[encoded data removed]",
      "text/plain": [
       "<Figure size 432x288 with 1 Axes>"
      ]
     },
     "metadata": {
      "needs_background": "light"
     },
     "output_type": "display_data"
    }
   ],
   "source": [
    "#Box plot and histogram of reviews_per_month\n",
    "data.boxplot(column = 'reviews_per_month')\n",
    "data.hist(column = 'reviews_per_month', bins = 100, grid = True,)\n",
    "data.reviews_per_month.describe()"
   ]
  },
  {
   "cell_type": "code",
   "execution_count": 25,
   "metadata": {},
   "outputs": [
    {
     "name": "stdout",
     "output_type": "stream",
     "text": [
      "count    48895.000000\n",
      "mean         7.143982\n",
      "std         32.952519\n",
      "min          1.000000\n",
      "25%          1.000000\n",
      "50%          1.000000\n",
      "75%          2.000000\n",
      "max        327.000000\n",
      "Name: num_host_listings, dtype: float64\n",
      "median: 1.0\n"
     ]
    },
    {
     "data": {
      "image/png": "[encoded data removed]",
      "text/plain": [
       "<Figure size 432x288 with 1 Axes>"
      ]
     },
     "metadata": {
      "needs_background": "light"
     },
     "output_type": "display_data"
    },
    {
     "data": {
      "image/png": "[encoded data removed]",
      "text/plain": [
       "<Figure size 432x288 with 1 Axes>"
      ]
     },
     "metadata": {
      "needs_background": "light"
     },
     "output_type": "display_data"
    }
   ],
   "source": [
    "#Box plot and histogram of num_host_listings\n",
    "data.boxplot(column = 'num_host_listings')\n",
    "data.hist(column = 'num_host_listings', bins = 100, grid = True,)\n",
    "print(data.num_host_listings.describe())\n",
    "print(\"median: \" + str(data.num_host_listings.median()))"
   ]
  },
  {
   "cell_type": "code",
   "execution_count": 26,
   "metadata": {},
   "outputs": [],
   "source": [
    "#Questions to answer: \n",
    "#Which boroughs have most listings? \n",
    "#Which 5 neighbourhoods have most listings? \n",
    "#Which boroughs are most expensive? \n",
    "#Which neighbourhoods are most expensive? \n",
    "#Which room types are most expensive? \n",
    "#What boroughs have which room types? \n",
    "#How many hosts total? \n",
    "#Which hosts have the most listings and who are they?"
   ]
  },
  {
   "cell_type": "code",
   "execution_count": 27,
   "metadata": {},
   "outputs": [
    {
     "name": "stdout",
     "output_type": "stream",
     "text": [
      "Manhattan        21661\n",
      "Brooklyn         20104\n",
      "Queens            5666\n",
      "Bronx             1091\n",
      "Staten Island      373\n",
      "Name: borough, dtype: int64\n"
     ]
    },
    {
     "data": {
      "text/plain": [
       "<BarContainer object of 5 artists>"
      ]
     },
     "execution_count": 27,
     "metadata": {},
     "output_type": "execute_result"
    },
    {
     "data": {
      "image/png": "[encoded data removed]",
      "text/plain": [
       "<Figure size 432x288 with 1 Axes>"
      ]
     },
     "metadata": {
      "needs_background": "light"
     },
     "output_type": "display_data"
    }
   ],
   "source": [
    "#Which boroughs have the most listings? \n",
    "borough_listings = data.borough.value_counts()\n",
    "print(borough_listings)\n",
    "\n",
    "borough_listing = data.borough.value_counts()\n",
    "plt.figure()\n",
    "x = list(borough_listing.index)\n",
    "y = list(borough_listing.values)\n",
    "\n",
    "plt.ylabel(\"Number of listings\")\n",
    "plt.xlabel(\"Borough\")\n",
    "plt.xticks(rotation ='vertical', size=11)\n",
    "\n",
    "plt.bar(x,y)"
   ]
  },
  {
   "cell_type": "code",
   "execution_count": 28,
   "metadata": {},
   "outputs": [
    {
     "data": {
      "text/plain": [
       "<BarContainer object of 5 artists>"
      ]
     },
     "execution_count": 28,
     "metadata": {},
     "output_type": "execute_result"
    },
    {
     "data": {
      "image/png": "[encoded data removed]",
      "text/plain": [
       "<Figure size 432x288 with 1 Axes>"
      ]
     },
     "metadata": {
      "needs_background": "light"
     },
     "output_type": "display_data"
    }
   ],
   "source": [
    "#Which 5 neighborhoods have most listings? \n",
    "data.neighbourhood.value_counts().head(5)\n",
    "\n",
    "top_5_neighbourhoods = data.neighbourhood.value_counts().head(5)\n",
    "plt.figure()\n",
    "x = list(top_5_neighbourhoods.index)\n",
    "y = list(top_5_neighbourhoods.values)\n",
    "\n",
    "plt.ylabel(\"Number of listings\")\n",
    "plt.xlabel(\"Neighbourhood\")\n",
    "plt.xticks(rotation ='vertical', size=11)\n",
    "\n",
    "plt.bar(x,y)"
   ]
  },
  {
   "cell_type": "code",
   "execution_count": 29,
   "metadata": {},
   "outputs": [
    {
     "name": "stdout",
     "output_type": "stream",
     "text": [
      "borough\n",
      "Bronx             87.496792\n",
      "Brooklyn         124.383207\n",
      "Manhattan        196.875814\n",
      "Queens            99.517649\n",
      "Staten Island    114.812332\n",
      "Name: price, dtype: float64\n"
     ]
    },
    {
     "data": {
      "text/plain": [
       "<BarContainer object of 5 artists>"
      ]
     },
     "execution_count": 29,
     "metadata": {},
     "output_type": "execute_result"
    },
    {
     "data": {
      "image/png": "[encoded data removed]",
      "text/plain": [
       "<Figure size 432x288 with 1 Axes>"
      ]
     },
     "metadata": {
      "needs_background": "light"
     },
     "output_type": "display_data"
    }
   ],
   "source": [
    "#Which boroughs are most expensive? - average price by borough\n",
    "average_borough_prices = data.groupby('borough').price.mean()\n",
    "print(average_borough_prices)\n",
    "\n",
    "prices_by_borough = data.groupby('borough').price.mean()\n",
    "plt.figure()\n",
    "x = list(prices_by_borough.index)\n",
    "y = list(prices_by_borough.values)\n",
    "\n",
    "plt.ylabel(\"Price\")\n",
    "plt.xlabel(\"Borough\")\n",
    "plt.xticks(rotation ='vertical', size=11)\n",
    "\n",
    "plt.bar(x,y)\n",
    "\n"
   ]
  },
  {
   "cell_type": "code",
   "execution_count": 30,
   "metadata": {},
   "outputs": [
    {
     "data": {
      "text/plain": [
       "<matplotlib.axes._subplots.AxesSubplot at 0x7fef28a70990>"
      ]
     },
     "execution_count": 30,
     "metadata": {},
     "output_type": "execute_result"
    },
    {
     "data": {
      "image/png": "[encoded data removed]",
      "text/plain": [
       "<Figure size 432x288 with 1 Axes>"
      ]
     },
     "metadata": {
      "needs_background": "light"
     },
     "output_type": "display_data"
    }
   ],
   "source": [
    "#Boxplot to show distribution\n",
    "sns.boxplot(x='borough', y='price', data = data, palette='rainbow', showfliers=False)"
   ]
  },
  {
   "cell_type": "code",
   "execution_count": 31,
   "metadata": {},
   "outputs": [
    {
     "name": "stdout",
     "output_type": "stream",
     "text": [
      "neighbourhood\n",
      "Allerton                       87.595238\n",
      "Arden Heights                  67.250000\n",
      "Arrochar                      115.000000\n",
      "Arverne                       171.779221\n",
      "Astoria                       117.187778\n",
      "Bath Beach                     81.764706\n",
      "Battery Park City             367.557143\n",
      "Bay Ridge                     144.432624\n",
      "Bay Terrace                   142.000000\n",
      "Bay Terrace, Staten Island    102.500000\n",
      "Name: price, dtype: float64\n"
     ]
    },
    {
     "data": {
      "text/plain": [
       "<BarContainer object of 10 artists>"
      ]
     },
     "execution_count": 31,
     "metadata": {},
     "output_type": "execute_result"
    },
    {
     "data": {
      "image/png": "[encoded data removed]",
      "text/plain": [
       "<Figure size 432x288 with 1 Axes>"
      ]
     },
     "metadata": {
      "needs_background": "light"
     },
     "output_type": "display_data"
    }
   ],
   "source": [
    "#Which neighbourhoods are most expensive? \n",
    "average_neighbourhood_prices = data.groupby('neighbourhood').price.mean().head(10)\n",
    "print(average_neighbourhood_prices)\n",
    "\n",
    "prices_by_neighbourhood = data.groupby('neighbourhood').price.mean().sort_values(ascending = False).head(10)\n",
    "plt.figure()\n",
    "x = list(prices_by_neighbourhood.index)\n",
    "y = list(prices_by_neighbourhood.values)\n",
    "\n",
    "plt.ylabel(\"Price\")\n",
    "plt.xlabel(\"neighbourhood\")\n",
    "plt.xticks(rotation ='vertical', size=11)\n",
    "\n",
    "plt.bar(x,y)"
   ]
  },
  {
   "cell_type": "code",
   "execution_count": 32,
   "metadata": {},
   "outputs": [
    {
     "name": "stdout",
     "output_type": "stream",
     "text": [
      "room_type\n",
      "Entire home/apt    211.794246\n",
      "Private room        89.780973\n",
      "Shared room         70.127586\n",
      "Name: price, dtype: float64\n"
     ]
    },
    {
     "data": {
      "text/plain": [
       "<BarContainer object of 3 artists>"
      ]
     },
     "execution_count": 32,
     "metadata": {},
     "output_type": "execute_result"
    },
    {
     "data": {
      "image/png": "[encoded data removed]",
      "text/plain": [
       "<Figure size 432x288 with 1 Axes>"
      ]
     },
     "metadata": {
      "needs_background": "light"
     },
     "output_type": "display_data"
    }
   ],
   "source": [
    "#Which room types are most expensive? - average by room type \n",
    "average_room_prices = data.groupby('room_type').price.mean()\n",
    "print(average_room_prices)\n",
    "\n",
    "prices_by_roomtype = data.groupby('room_type').price.mean()\n",
    "plt.figure()\n",
    "x = list(prices_by_roomtype.index)\n",
    "y = list(prices_by_roomtype.values)\n",
    "\n",
    "plt.ylabel(\"Price\")\n",
    "plt.xlabel(\"Borough\")\n",
    "plt.xticks(rotation ='vertical', size=11)\n",
    "\n",
    "plt.bar(x,y)"
   ]
  },
  {
   "cell_type": "code",
   "execution_count": null,
   "metadata": {},
   "outputs": [],
   "source": []
  },
  {
   "cell_type": "code",
   "execution_count": 33,
   "metadata": {},
   "outputs": [
    {
     "name": "stdout",
     "output_type": "stream",
     "text": [
      "borough        room_type      \n",
      "Bronx          Private room         652\n",
      "               Entire home/apt      379\n",
      "               Shared room           60\n",
      "Brooklyn       Private room       10132\n",
      "               Entire home/apt     9559\n",
      "               Shared room          413\n",
      "Manhattan      Entire home/apt    13199\n",
      "               Private room        7982\n",
      "               Shared room          480\n",
      "Queens         Private room        3372\n",
      "               Entire home/apt     2096\n",
      "               Shared room          198\n",
      "Staten Island  Private room         188\n",
      "               Entire home/apt      176\n",
      "               Shared room            9\n",
      "Name: room_type, dtype: int64\n"
     ]
    }
   ],
   "source": [
    "#What boroughs have what room types? \n",
    "num_room_types_per_borough = data.groupby('borough').room_type.value_counts()\n",
    "print(num_room_types_per_borough)\n"
   ]
  },
  {
   "cell_type": "code",
   "execution_count": 34,
   "metadata": {},
   "outputs": [
    {
     "data": {
      "text/plain": [
       "37457"
      ]
     },
     "execution_count": 34,
     "metadata": {},
     "output_type": "execute_result"
    }
   ],
   "source": [
    "#How many hosts do we have? \n",
    "len(data['host_id'].unique())"
   ]
  },
  {
   "cell_type": "code",
   "execution_count": 43,
   "metadata": {},
   "outputs": [
    {
     "name": "stdout",
     "output_type": "stream",
     "text": [
      "0               John\n",
      "1           Jennifer\n",
      "2          Elisabeth\n",
      "3        LisaRoxanne\n",
      "4              Laura\n",
      "            ...     \n",
      "40973           Eyal\n",
      "40975           Eyal\n",
      "40976           Eyal\n",
      "40977           Eyal\n",
      "40978           Eyal\n",
      "Name: host_name, Length: 470, dtype: object\n"
     ]
    }
   ],
   "source": [
    "#Which hosts have the most listings?\n",
    "\n",
    "top_5_hosts = data.num_host_listings\n"
   ]
  },
  {
   "cell_type": "code",
   "execution_count": null,
   "metadata": {},
   "outputs": [],
   "source": [
    "#Which neighbourhoods are most expensive? \n",
    "average_neighbourhood_prices = data.groupby('neighbourhood').price.mean().head(10)\n",
    "print(average_neighbourhood_prices)\n",
    "\n",
    "prices_by_neighbourhood = data.groupby('neighbourhood').price.mean().sort_values(ascending = False).head(10)\n",
    "plt.figure()\n",
    "x = list(prices_by_neighbourhood.index)\n",
    "y = list(prices_by_neighbourhood.values)\n",
    "\n",
    "plt.ylabel(\"Price\")\n",
    "plt.xlabel(\"neighbourhood\")\n",
    "plt.xticks(rotation ='vertical', size=11)\n",
    "\n",
    "plt.bar(x,y)\n",
    "\n",
    "\n"
   ]
  },
  {
   "cell_type": "code",
   "execution_count": 56,
   "metadata": {},
   "outputs": [
    {
     "name": "stderr",
     "output_type": "stream",
     "text": [
      "/Users/samuel/opt/anaconda3/lib/python3.7/site-packages/seaborn/_decorators.py:43: FutureWarning: Pass the following variables as keyword args: x, y. From version 0.12, the only valid positional argument will be `data`, and passing other arguments without an explicit keyword will result in an error or misinterpretation.\n",
      "  FutureWarning\n"
     ]
    },
    {
     "data": {
      "image/png": "[encoded data removed]",
      "text/plain": [
       "<Figure size 864x432 with 1 Axes>"
      ]
     },
     "metadata": {
      "needs_background": "light"
     },
     "output_type": "display_data"
    }
   ],
   "source": [
    "hosts = data.groupby(['host_id'])['id'].count().sort_values(ascending=False).reset_index().head(10)\n",
    "hosts.rename(columns={'id':'Number of listings'},inplace=True)\n",
    "\n",
    "plt.figure(figsize=(12, 6));\n",
    "sns.barplot(hosts['host_id'],hosts['Number of listings'],palette='rocket_r');\n",
    "plt.title('Top 10 Hosts per number of listings');\n",
    "plt.xticks(rotation=70);"
   ]
  },
  {
   "cell_type": "code",
   "execution_count": 58,
   "metadata": {},
   "outputs": [
    {
     "name": "stdout",
     "output_type": "stream",
     "text": [
      "             id                                      listing_title    host_id  \\\n",
      "38293  30181691      Sonder | 180 Water | Incredible 2BR + Rooftop  219517861   \n",
      "38294  30181945         Sonder | 180 Water | Premier 1BR + Rooftop  219517861   \n",
      "38588  30347708        Sonder | 180 Water | Charming 1BR + Rooftop  219517861   \n",
      "39769  30937590            Sonder | The Nash | Artsy 1BR + Rooftop  219517861   \n",
      "39770  30937591        Sonder | The Nash | Lovely Studio + Rooftop  219517861   \n",
      "...         ...                                                ...        ...   \n",
      "47691  35871510  Sonder | 116 John | Vibrant Studio + Fitness Room  219517861   \n",
      "47692  35871511     Sonder | 116 John | Vibrant 1BR + Fitness Room  219517861   \n",
      "47693  35871515         Sonder | 116 John | Stunning 1BR + Rooftop  219517861   \n",
      "47814  35936418          Sonder | 116 John | Polished Studio + Gym  219517861   \n",
      "47821  35937891            Sonder | 116 John | Simple Studio + Gym  219517861   \n",
      "\n",
      "          host_name    borough       neighbourhood        room_type  price  \\\n",
      "38293  Sonder (NYC)  Manhattan  Financial District  Entire home/apt    302   \n",
      "38294  Sonder (NYC)  Manhattan  Financial District  Entire home/apt    229   \n",
      "38588  Sonder (NYC)  Manhattan  Financial District  Entire home/apt    232   \n",
      "39769  Sonder (NYC)  Manhattan         Murray Hill  Entire home/apt    262   \n",
      "39770  Sonder (NYC)  Manhattan         Murray Hill  Entire home/apt    255   \n",
      "...             ...        ...                 ...              ...    ...   \n",
      "47691  Sonder (NYC)  Manhattan  Financial District  Entire home/apt    135   \n",
      "47692  Sonder (NYC)  Manhattan  Financial District  Entire home/apt    165   \n",
      "47693  Sonder (NYC)  Manhattan  Financial District  Entire home/apt    165   \n",
      "47814  Sonder (NYC)  Manhattan  Financial District  Entire home/apt    699   \n",
      "47821  Sonder (NYC)  Manhattan  Financial District  Entire home/apt    699   \n",
      "\n",
      "       min_nights  num_of_reviews  reviews_per_month  num_host_listings  \n",
      "38293          29               0               0.72                327  \n",
      "38294          29               1               0.73                327  \n",
      "38588          29               1               0.60                327  \n",
      "39769           2               8               1.86                327  \n",
      "39770           2              14               2.59                327  \n",
      "...           ...             ...                ...                ...  \n",
      "47691          29               0               0.72                327  \n",
      "47692          29               0               0.72                327  \n",
      "47693          29               0               0.72                327  \n",
      "47814          29               0               0.72                327  \n",
      "47821          29               0               0.72                327  \n",
      "\n",
      "[327 rows x 12 columns]\n"
     ]
    }
   ],
   "source": [
    "top_host = data[(data.host_id == 219517861)]\n",
    "print(top_host)"
   ]
  },
  {
   "cell_type": "code",
   "execution_count": 59,
   "metadata": {},
   "outputs": [
    {
     "name": "stdout",
     "output_type": "stream",
     "text": [
      "             id                                      listing_title    host_id  \\\n",
      "38293  30181691      Sonder | 180 Water | Incredible 2BR + Rooftop  219517861   \n",
      "38294  30181945         Sonder | 180 Water | Premier 1BR + Rooftop  219517861   \n",
      "38588  30347708        Sonder | 180 Water | Charming 1BR + Rooftop  219517861   \n",
      "39769  30937590            Sonder | The Nash | Artsy 1BR + Rooftop  219517861   \n",
      "39770  30937591        Sonder | The Nash | Lovely Studio + Rooftop  219517861   \n",
      "...         ...                                                ...        ...   \n",
      "47691  35871510  Sonder | 116 John | Vibrant Studio + Fitness Room  219517861   \n",
      "47692  35871511     Sonder | 116 John | Vibrant 1BR + Fitness Room  219517861   \n",
      "47693  35871515         Sonder | 116 John | Stunning 1BR + Rooftop  219517861   \n",
      "47814  35936418          Sonder | 116 John | Polished Studio + Gym  219517861   \n",
      "47821  35937891            Sonder | 116 John | Simple Studio + Gym  219517861   \n",
      "\n",
      "          host_name    borough       neighbourhood        room_type  price  \\\n",
      "38293  Sonder (NYC)  Manhattan  Financial District  Entire home/apt    302   \n",
      "38294  Sonder (NYC)  Manhattan  Financial District  Entire home/apt    229   \n",
      "38588  Sonder (NYC)  Manhattan  Financial District  Entire home/apt    232   \n",
      "39769  Sonder (NYC)  Manhattan         Murray Hill  Entire home/apt    262   \n",
      "39770  Sonder (NYC)  Manhattan         Murray Hill  Entire home/apt    255   \n",
      "...             ...        ...                 ...              ...    ...   \n",
      "47691  Sonder (NYC)  Manhattan  Financial District  Entire home/apt    135   \n",
      "47692  Sonder (NYC)  Manhattan  Financial District  Entire home/apt    165   \n",
      "47693  Sonder (NYC)  Manhattan  Financial District  Entire home/apt    165   \n",
      "47814  Sonder (NYC)  Manhattan  Financial District  Entire home/apt    699   \n",
      "47821  Sonder (NYC)  Manhattan  Financial District  Entire home/apt    699   \n",
      "\n",
      "       min_nights  num_of_reviews  reviews_per_month  num_host_listings  \n",
      "38293          29               0               0.72                327  \n",
      "38294          29               1               0.73                327  \n",
      "38588          29               1               0.60                327  \n",
      "39769           2               8               1.86                327  \n",
      "39770           2              14               2.59                327  \n",
      "...           ...             ...                ...                ...  \n",
      "47691          29               0               0.72                327  \n",
      "47692          29               0               0.72                327  \n",
      "47693          29               0               0.72                327  \n",
      "47814          29               0               0.72                327  \n",
      "47821          29               0               0.72                327  \n",
      "\n",
      "[327 rows x 12 columns]\n"
     ]
    }
   ],
   "source": [
    "second_host = data[(data.host_id == 107)]\n",
    "print(top_host)"
   ]
  },
  {
   "cell_type": "code",
   "execution_count": null,
   "metadata": {},
   "outputs": [],
   "source": []
  },
  {
   "cell_type": "code",
   "execution_count": null,
   "metadata": {},
   "outputs": [],
   "source": []
  },
  {
   "cell_type": "code",
   "execution_count": null,
   "metadata": {},
   "outputs": [],
   "source": []
  },
  {
   "cell_type": "code",
   "execution_count": null,
   "metadata": {},
   "outputs": [],
   "source": []
  }
 ],
 "metadata": {
  "kernelspec": {
   "display_name": "Python 3",
   "language": "python",
   "name": "python3"
  },
  "language_info": {
   "codemirror_mode": {
    "name": "ipython",
    "version": 3
   },
   "file_extension": ".py",
   "mimetype": "text/x-python",
   "name": "python",
   "nbconvert_exporter": "python",
   "pygments_lexer": "ipython3",
   "version": "3.7.6"
  }
 },
 "nbformat": 4,
 "nbformat_minor": 4
}
